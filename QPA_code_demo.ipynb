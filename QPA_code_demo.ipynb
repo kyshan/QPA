{
 "cells": [
  {
   "cell_type": "code",
   "execution_count": 1,
   "metadata": {},
   "outputs": [],
   "source": [
    "import numpy as np\n",
    "import matplotlib.pyplot as plt\n",
    "import pickle\n",
    "from lib_data import *\n",
    "\n",
    "f1 = open('arrayfrom10to100.pkl', 'rb') #Problem matrix\n",
    "f5 = open('answerfrom10to100.pkl', 'rb') #Solution\n",
    "answer_of_arrays = pickle.load(f5)"
   ]
  },
  {
   "cell_type": "code",
   "execution_count": 2,
   "metadata": {},
   "outputs": [
    {
     "data": {
      "text/plain": [
       "(10, 200)"
      ]
     },
     "execution_count": 2,
     "metadata": {},
     "output_type": "execute_result"
    }
   ],
   "source": [
    "answer_of_arrays.shape "
   ]
  },
  {
   "cell_type": "code",
   "execution_count": 8,
   "metadata": {},
   "outputs": [
    {
     "data": {
      "text/plain": [
       "<matplotlib.colorbar.Colorbar at 0x1b116994e50>"
      ]
     },
     "execution_count": 8,
     "metadata": {},
     "output_type": "execute_result"
    },
    {
     "data": {
      "image/png": "[encoded data removed]",
      "text/plain": [
       "<Figure size 432x288 with 2 Axes>"
      ]
     },
     "metadata": {
      "needs_background": "light"
     },
     "output_type": "display_data"
    }
   ],
   "source": [
    "arraytest=pickle.load(f1) #load problem\n",
    "# load multiple times for larger problem size\n",
    "weightMatrix = arraytest[0]\n",
    "plt.imshow(weightMatrix);plt.colorbar()"
   ]
  },
  {
   "cell_type": "code",
   "execution_count": 45,
   "metadata": {},
   "outputs": [
    {
     "name": "stdout",
     "output_type": "stream",
     "text": [
      "Loaded: Problem0, \n"
     ]
    }
   ],
   "source": [
    "load_workspace(vars(),'Problem0')"
   ]
  },
  {
   "cell_type": "code",
   "execution_count": 5,
   "metadata": {},
   "outputs": [],
   "source": [
    "coulpingMatrix = - Problem0"
   ]
  },
  {
   "cell_type": "code",
   "execution_count": 6,
   "metadata": {},
   "outputs": [
    {
     "name": "stdout",
     "output_type": "stream",
     "text": [
      "0.0\n"
     ]
    }
   ],
   "source": [
    "numTrials = 100\n",
    "numIterations = 1000  #predefined number of iterations\n",
    "numSpins = coulpingMatrix.shape[0] # number of spins (Problem size N)\n",
    "\n",
    "adpRate=0.01 # learning rate/step size\n",
    "lamda = np.linspace(10,0,numIterations) # coefficient of initial Hamiltonian\n",
    "\n",
    "spinVector = np.random.randint(2,size=(numSpins,numTrials))*2-1.0 #randomly initialize spin configurations\n",
    "xVector = np.zeros((numSpins,numTrials)) #zero initialize classical \"superposition\"\n",
    "momentum = np.zeros((numSpins,numTrials)) #zero initialize momentum\n",
    "isingHamil = np.zeros(numTrials) # Ising Hamiltonian\n",
    "isingHamilHistory = np.zeros((numIterations,numTrials)) # Ising Hamiltonian History\n",
    "\n",
    "for ii in np.arange(numIterations):\n",
    "    delHising = np.dot(-coulpingMatrix, spinVector) # Implemented experimentally by memristor crossbar array\n",
    "    delHinit = xVector\n",
    "    delHsystem = delHising + lamda[ii]*delHinit\n",
    "    momentum = (1-adpRate)*momentum - adpRate*delHsystem # update momentum\n",
    "    momentum = np.clip(momentum,-1,1) # clip momentum\n",
    "    xVector += momentum # update classical \"superposition\"\n",
    "    xVector = np.clip(xVector,-1,1 )# clip classical \"superposition\"\n",
    "    spinVector = np.sign(xVector)\n",
    "    for tt in np.arange(numTrials):  \n",
    "        isingHamil[tt] = - 0.5*np.dot(spinVector[:,tt].T, (coulpingMatrix @ spinVector[:,tt]))\n",
    "    isingHamilHistory[ii] = isingHamil\n",
    "    \n",
    "for tt in np.arange(numTrials):  \n",
    "    isingHamil[tt] = - 0.5*np.dot(spinVector[:,tt].T, (coulpingMatrix @ spinVector[:,tt]))\n",
    "    \n",
    "\n",
    "sucProbability = np.sum(isingHamil == -188) / numTrials\n",
    "print(sucProbability)"
   ]
  }
 ],
 "metadata": {
  "kernelspec": {
   "display_name": "base",
   "language": "python",
   "name": "python3"
  },
  "language_info": {
   "codemirror_mode": {
    "name": "ipython",
    "version": 3
   },
   "file_extension": ".py",
   "mimetype": "text/x-python",
   "name": "python",
   "nbconvert_exporter": "python",
   "pygments_lexer": "ipython3",
   "version": "3.8.8"
  },
  "orig_nbformat": 4,
  "vscode": {
   "interpreter": {
    "hash": "bc7a724354a6f6fda19e08c8f7d12d5cc013721623b02fcea6d16e5c290fba8d"
   }
  }
 },
 "nbformat": 4,
 "nbformat_minor": 2
}
